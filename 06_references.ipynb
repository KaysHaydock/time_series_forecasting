{
 "cells": [
  {
   "cell_type": "markdown",
   "id": "97d39ea4-46a8-4f09-ae5a-5efb30f351bc",
   "metadata": {},
   "source": [
    "# References"
   ]
  },
  {
   "cell_type": "markdown",
   "id": "65bb1537-d8ab-4534-a327-64b142d18175",
   "metadata": {},
   "source": [
    "1. Jilani, T., Housley, G., Figueredo, G., Tang, P.-S., Hatton, J., & Shaw, D. (2019). Short and long term predictions of hospital emergency department attendances. International Journal of Medical Informatics, 129, 167-174. https://doi.org/10.1016/j.ijmedinf.2019.05.011. (Accessed: 28th January 2025).\n",
    "\n",
    "\n",
    "2. Meta Prophet (no date) <i>'Uncertainty Values - Monte Carlo Sampling'</i>: Available at: https://facebook.github.io/prophet/docs/diagnostics.html (Accessed: 1st February 2025).\n",
    "\n",
    "\n",
    "3. Monks, T., Harper, A., Allen, M., Collins, L., & Mayne, A. (2023). Forecasting the daily demand for emergency medical ambulances in England and Wales: a benchmark model and external validation. BMC Medical Informatics and Decision Making, 23(1), 117. https://doi.org/10.1186/s12911-023-02146-6 (Accessed: 5th February 2025)."
   ]
  },
  {
   "cell_type": "markdown",
   "id": "cc182f85-fd5b-463a-b563-baa393f86a8a",
   "metadata": {},
   "source": [
    "*Page 7*"
   ]
  }
 ],
 "metadata": {
  "kernelspec": {
   "display_name": "Python 3 (ipykernel)",
   "language": "python",
   "name": "python3"
  },
  "language_info": {
   "codemirror_mode": {
    "name": "ipython",
    "version": 3
   },
   "file_extension": ".py",
   "mimetype": "text/x-python",
   "name": "python",
   "nbconvert_exporter": "python",
   "pygments_lexer": "ipython3",
   "version": "3.11.11"
  }
 },
 "nbformat": 4,
 "nbformat_minor": 5
}
