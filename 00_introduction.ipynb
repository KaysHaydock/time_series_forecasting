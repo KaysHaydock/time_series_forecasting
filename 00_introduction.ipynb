{
 "cells": [
  {
   "cell_type": "markdown",
   "metadata": {},
   "source": [
    "# Health Service Demand Forecasting Project"
   ]
  },
  {
   "cell_type": "markdown",
   "metadata": {},
   "source": [
    "---"
   ]
  },
  {
   "cell_type": "markdown",
   "metadata": {},
   "source": [
    "# Project Overview\n",
    "\n",
    "This project focuses on forecasting paediatric emergency department (ED) attendances for an NHS Acute Trust. The goal is to predict the next 28 days of paediatric attendances, assisting the Trust in their staffing and resource allocation decisions.\n",
    "\n",
    "I will be analysing three forecasting models:\n",
    "\n",
    "1. **Naive Model** ([Naive1 and Seasonal Naive Notebook](02_naive_model.ipynb))\n",
    "2. **ARIMA** ([ARIMA Model Notebook](03_arima_model.ipynb))\n",
    "3. **Prophet** ([Prophet Model Notebook](04_prophet_model.ipynb))\n",
    "\n",
    "Each model will be evaluated on its forecasting accuracy using appropriate metrics such as **Mean Absolute Error (MAE)** along with the 80% and 90% **Prediction Intervals (PIs)**. The best model will then be used to generate the 28-day forecast, aiding the Trust in planning their staffing needs effectively.\n",
    "\n",
    "\n",
    "## Initial Data Exploratory Analysis\n",
    "The data was initially explored to look for any key patterns, trends or\n",
    "potential anomalies at the surface level, providing a foundation for further\n",
    "in-depth analysis - This can be found **[here](01_data_exploration.ipynb)**.\n",
    "\n",
    "## Input Data\n",
    "\n",
    "The data consists of daily paediatric attendances at the hospital from **01/04/2014 to 19/02/2017**, with two columns:\n",
    "\n",
    "- **Date** (format: yyyy-mm-dd)\n",
    "- **paeds_ed_attends** (integer observations of daily attendances)\n",
    "\n",
    "## Methodology\n",
    "\n",
    "1. **Exploration and Analysis**: The provided time series will be carefully explored and described.\n",
    "2. **Model Selection**: Three different forecasting methods will be compared, which includes a Naive benchmark model.\n",
    "3. **Evaluation**: Models will be evaluated using metrics like MAE and Prediction Intervals.\n",
    "4. **Selection**: The best model will be selected based on the evaluation and the 28-day forecast will be produced.\n",
    "\n",
    "## Goal\n",
    "\n",
    "The goal of this project is to produce a 28-day forecast of paediatric ED attendances to help the NHS Acute Trust plan their staffing decisions. Strengths and limitations of the recommendations will be stated and the final lab report can be found **[here](05_final_report.ipynb)**."
   ]
  },
  {
   "cell_type": "markdown",
   "metadata": {},
   "source": [
    "*Page 1*"
   ]
  }
 ],
 "metadata": {
  "kernelspec": {
   "display_name": "Python 3 (ipykernel)",
   "language": "python",
   "name": "python3"
  },
  "language_info": {
   "codemirror_mode": {
    "name": "ipython",
    "version": 3
   },
   "file_extension": ".py",
   "mimetype": "text/x-python",
   "name": "python",
   "nbconvert_exporter": "python",
   "pygments_lexer": "ipython3",
   "version": "3.11.11"
  }
 },
 "nbformat": 4,
 "nbformat_minor": 4
}
